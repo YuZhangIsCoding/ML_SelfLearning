{
 "cells": [
  {
   "cell_type": "markdown",
   "metadata": {},
   "source": [
    "# Naive Bayes\n",
    "This notebook shows to build a Naive Bayes classifier from scratch. We will first look into features only contian binary values, and later we will also implement Gaussian Naive Bayes for features with more discrete values."
   ]
  },
  {
   "cell_type": "code",
   "execution_count": 1,
   "metadata": {},
   "outputs": [],
   "source": [
    "%matplotlib inline\n",
    "import matplotlib.pyplot as plt\n",
    "import scipy\n",
    "import scipy.io as sio\n",
    "import numpy as np\n",
    "from collections import Counter\n",
    "from scipy.stats import norm"
   ]
  },
  {
   "cell_type": "markdown",
   "metadata": {},
   "source": [
    "## Naive bayes with binary inputs"
   ]
  },
  {
   "cell_type": "code",
   "execution_count": 2,
   "metadata": {},
   "outputs": [],
   "source": [
    "class NaiveBayes(object):\n",
    "    '''X binary cases, y could be multiclasses\n",
    "    '''\n",
    "    def __init__(self):\n",
    "        '''Initialze some variables'''\n",
    "        self.priors = []\n",
    "        self.condi = []\n",
    "        self.counts = None\n",
    "        self.label_names = None\n",
    "    def get_classes(self, labels):\n",
    "        '''Count each class, and store the name of each class'''\n",
    "        self.counts = Counter(labels)\n",
    "        self.label_names = list(self.counts.keys())\n",
    "    def get_prior(self, labels):\n",
    "        '''Calculate the prior probability of each class'''\n",
    "        for name in self.label_names:\n",
    "            self.priors.append(self.counts[name]/len(labels))\n",
    "    def get_conditional(self, training, labels):\n",
    "        '''Get conditional probability of features given label'''\n",
    "        for label_name in self.label_names:\n",
    "            pos = np.where(labels == label_name)[0]\n",
    "            # here we include a prior probability.\n",
    "            # for any features we did not in the training set\n",
    "            # we assume it has the probability of 1/(# of classes)\n",
    "            self.condi.append((np.sum(training[pos, :], axis = 0)+1)/(len(pos)+len(self.label_names)))\n",
    "    def train(self, training, labels):\n",
    "        '''Train dataset'''\n",
    "        labels = labels.ravel()\n",
    "        self.get_classes(labels)\n",
    "        self.get_prior(labels)\n",
    "        self.get_conditional(training, labels)\n",
    "    def predict(self, testset):\n",
    "        '''Predict given input dataset\n",
    "        Return:\n",
    "            list of classes\n",
    "        '''\n",
    "        if scipy.sparse.issparse(testset):\n",
    "            testset = testset.todense()\n",
    "        results = []\n",
    "        for test in testset:\n",
    "            best = None\n",
    "            for i in range(len(self.label_names)):\n",
    "                joint_prob = np.multiply(test, self.condi[i])+np.multiply(1-test, 1-self.condi[i])\n",
    "                log_jprob = np.sum(np.log(joint_prob))+np.log(self.priors[i])\n",
    "                if best is None or best < log_jprob:\n",
    "                    best = log_jprob\n",
    "                    index = i\n",
    "            results.append(self.label_names[index])\n",
    "        return results\n",
    "    @staticmethod\n",
    "    def accuracy(predicts, labels):\n",
    "        '''\n",
    "        Return:\n",
    "            float, accuracy of prediction\n",
    "        '''\n",
    "        return sum(predicts == labels.ravel())/len(labels)"
   ]
  },
  {
   "cell_type": "markdown",
   "metadata": {},
   "source": [
    "### Test how this one works\n",
    "The data is from [CMU's ML course 10-601](http://www.cs.cmu.edu/~ninamf/courses/601sp15/hw/hw3_code.tar)."
   ]
  },
  {
   "cell_type": "code",
   "execution_count": 3,
   "metadata": {},
   "outputs": [
    {
     "data": {
      "text/plain": [
       "dict_keys(['__header__', '__version__', '__globals__', 'XTrain', 'XTest', 'XTrainSmall', 'yTrain', 'yTest', 'yTrainSmall', 'Vocabulary'])"
      ]
     },
     "execution_count": 3,
     "metadata": {},
     "output_type": "execute_result"
    }
   ],
   "source": [
    "var_dict = sio.loadmat('./hw3/HW3Data.mat')\n",
    "var_dict.keys()"
   ]
  },
  {
   "cell_type": "code",
   "execution_count": 4,
   "metadata": {},
   "outputs": [
    {
     "data": {
      "text/plain": [
       "1.0"
      ]
     },
     "execution_count": 4,
     "metadata": {},
     "output_type": "execute_result"
    }
   ],
   "source": [
    "NB = NaiveBayes()\n",
    "\n",
    "NB.train(var_dict['XTrain'], var_dict['yTrain'])\n",
    "pred_train = NB.predict(var_dict['XTrain'])\n",
    "NB.accuracy(pred_train, var_dict['yTrain'])"
   ]
  },
  {
   "cell_type": "code",
   "execution_count": 5,
   "metadata": {},
   "outputs": [
    {
     "data": {
      "text/plain": [
       "0.9793103448275862"
      ]
     },
     "execution_count": 5,
     "metadata": {},
     "output_type": "execute_result"
    }
   ],
   "source": [
    "results = NB.predict(var_dict['XTest'])\n",
    "NB.accuracy(results, var_dict['yTest'])"
   ]
  },
  {
   "cell_type": "markdown",
   "metadata": {},
   "source": [
    "## Gaussian Naive Bayes\n",
    "For features with more discrete values, estimate the conditional probability as Gaussian distribution. This class inherits from NaiveBayes class, and modify the get_conditional() and predict() functions."
   ]
  },
  {
   "cell_type": "code",
   "execution_count": 6,
   "metadata": {},
   "outputs": [],
   "source": [
    "class GaussianNaiveBayes(NaiveBayes):\n",
    "    def get_conditional(self, training, labels):\n",
    "        '''Estimate the mean and variance for Gaussian distribution'''\n",
    "        for label_name in self.label_names:\n",
    "            pos = np.where(labels == label_name)[0]\n",
    "            mu = np.mean(training[pos, :], axis = 0)\n",
    "            # biased estimates of variance\n",
    "            # use ddof = 1 if want to use unbiased variance\n",
    "            std = np.std(training[pos, :], axis = 0)\n",
    "            pos = np.where(std == 0)[0]\n",
    "            # There are cases when the training set for some labels have no variance\n",
    "            # sometimes due to outliers in the dataset.\n",
    "            if len(pos):\n",
    "                print('Attention: feature located at', pos, 'with label %s has variance of 0' %str(label_name))\n",
    "            self.condi.append((mu, std))\n",
    "    def predict(self, testset):\n",
    "        '''Predict given input dataset'''\n",
    "        results = []\n",
    "        for test in testset:\n",
    "            best = None\n",
    "            for i in range(len(self.label_names)):\n",
    "                log_jprob = np.log(self.priors[i])\n",
    "                for j in range(len(test)):\n",
    "                    condi_prob = norm.pdf(test[j], self.condi[i][0][j], self.condi[i][1][j])\n",
    "                    log_jprob += np.log(condi_prob)\n",
    "                if best is None or best < log_jprob:\n",
    "                    best = log_jprob\n",
    "                    index = i\n",
    "            results.append(self.label_names[index])\n",
    "        return results"
   ]
  },
  {
   "cell_type": "markdown",
   "metadata": {},
   "source": [
    "### Test on some artificial data"
   ]
  },
  {
   "cell_type": "code",
   "execution_count": 7,
   "metadata": {},
   "outputs": [
    {
     "data": {
      "image/png": "[encoded data removed]",
      "text/plain": [
       "<matplotlib.figure.Figure at 0x108d726a0>"
      ]
     },
     "metadata": {},
     "output_type": "display_data"
    }
   ],
   "source": [
    "def generate_data(mu1 = (0, 2), mu2 = (0, 2), std1 = (2, 2), std2 = (2, 2)):\n",
    "    x10 = np.random.normal(mu1[0], std1[0], 100)\n",
    "    x11 = np.random.normal(mu1[1], std1[1], 100)\n",
    "    \n",
    "    x20 = np.random.normal(mu2[0], std2[0], 100)\n",
    "    x21 = np.random.normal(mu2[1], std2[1], 100)\n",
    "    \n",
    "    plt.plot(x10, x20, 'ro', label = '0')\n",
    "    plt.plot(x11, x21, 'bx', label = '1')\n",
    "    plt.xlabel('x1')\n",
    "    plt.ylabel('x2')\n",
    "    plt.legend()\n",
    "    data = np.column_stack((np.concatenate((x10, x11)), np.concatenate((x20, x21))))\n",
    "    ytests = [0]*100+[1]*100\n",
    "    ytests = np.array(ytests)\n",
    "    return data, ytests\n",
    "\n",
    "data, ytests = generate_data()"
   ]
  },
  {
   "cell_type": "code",
   "execution_count": 8,
   "metadata": {
    "scrolled": true
   },
   "outputs": [
    {
     "data": {
      "text/plain": [
       "0.795"
      ]
     },
     "execution_count": 8,
     "metadata": {},
     "output_type": "execute_result"
    }
   ],
   "source": [
    "GNB = GaussianNaiveBayes()\n",
    "GNB.train(data, ytests)\n",
    "results = GNB.predict(data)\n",
    "GNB.accuracy(results, ytests)"
   ]
  },
  {
   "cell_type": "code",
   "execution_count": 9,
   "metadata": {},
   "outputs": [],
   "source": [
    "def visual_predict(data, results):\n",
    "    results = np.array(results)\n",
    "    pos = np.where(results == 0)[0]\n",
    "    plt.plot(data[pos, 0], data[pos, 1], 'ro', mfc = 'w', label = 'predicted 0')\n",
    "    pos = np.where(results == 1)[0]\n",
    "    plt.plot(data[pos, 0], data[pos, 1], 'bx', mfc = 'w', label = 'predicted 1')\n",
    "    plt.xlabel('x1')\n",
    "    plt.ylabel('x2')\n",
    "    plt.legend()"
   ]
  },
  {
   "cell_type": "code",
   "execution_count": 10,
   "metadata": {},
   "outputs": [
    {
     "data": {
      "image/png": "[encoded data removed]",
      "text/plain": [
       "<matplotlib.figure.Figure at 0x10a0048d0>"
      ]
     },
     "metadata": {},
     "output_type": "display_data"
    }
   ],
   "source": [
    "visual_predict(data, results)"
   ]
  },
  {
   "cell_type": "markdown",
   "metadata": {},
   "source": [
    "Because the variance for x1 and x2 are the same, GNB will have a linear decision boundary"
   ]
  },
  {
   "cell_type": "markdown",
   "metadata": {},
   "source": [
    "## 2 features with different variances"
   ]
  },
  {
   "cell_type": "code",
   "execution_count": 11,
   "metadata": {},
   "outputs": [
    {
     "data": {
      "image/png": "[encoded data removed]",
      "text/plain": [
       "<matplotlib.figure.Figure at 0x10bfc1978>"
      ]
     },
     "metadata": {},
     "output_type": "display_data"
    }
   ],
   "source": [
    "data, ytests = generate_data(std1 = (10, 5), std2 = (1, 2))"
   ]
  },
  {
   "cell_type": "code",
   "execution_count": 12,
   "metadata": {},
   "outputs": [
    {
     "data": {
      "text/plain": [
       "0.785"
      ]
     },
     "execution_count": 12,
     "metadata": {},
     "output_type": "execute_result"
    }
   ],
   "source": [
    "GNB = GaussianNaiveBayes()\n",
    "GNB.train(data, ytests)\n",
    "results = GNB.predict(data)\n",
    "GNB.accuracy(results, ytests)"
   ]
  },
  {
   "cell_type": "code",
   "execution_count": 13,
   "metadata": {},
   "outputs": [
    {
     "data": {
      "image/png": "[encoded data removed]",
      "text/plain": [
       "<matplotlib.figure.Figure at 0x108d424e0>"
      ]
     },
     "metadata": {},
     "output_type": "display_data"
    }
   ],
   "source": [
    "visual_predict(data, results)"
   ]
  },
  {
   "cell_type": "markdown",
   "metadata": {},
   "source": [
    "Now we have non-linear decision boundary!"
   ]
  },
  {
   "cell_type": "markdown",
   "metadata": {},
   "source": [
    "## More to think\n",
    "1. For Naive Bayes, instead of binary inputs, what if the inputs are strings? Implement functions that support nominal distributions.\n",
    "1. The algorithms above only works for one time training. Improve it by adding updating functions so that the algorightm can improve each time new training set comes.\n",
    "1. Is there ways to integrate binary cases with continuous cases?\n",
    "1. Other distributions, more generaly, could we introduce Kernels?"
   ]
  },
  {
   "cell_type": "code",
   "execution_count": null,
   "metadata": {},
   "outputs": [],
   "source": []
  }
 ],
 "metadata": {
  "kernelspec": {
   "display_name": "Python 3",
   "language": "python",
   "name": "python3"
  },
  "language_info": {
   "codemirror_mode": {
    "name": "ipython",
    "version": 3
   },
   "file_extension": ".py",
   "mimetype": "text/x-python",
   "name": "python",
   "nbconvert_exporter": "python",
   "pygments_lexer": "ipython3",
   "version": "3.6.4"
  }
 },
 "nbformat": 4,
 "nbformat_minor": 2
}
